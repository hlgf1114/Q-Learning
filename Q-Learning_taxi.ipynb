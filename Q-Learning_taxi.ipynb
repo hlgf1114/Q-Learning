{
 "cells": [
  {
   "cell_type": "code",
   "execution_count": 0,
   "metadata": {
    "colab": {},
    "colab_type": "code",
    "id": "jjNaahYb3ELo"
   },
   "outputs": [],
   "source": [
    "import gym\n",
    "import numpy as np\n",
    "import random\n",
    "\n",
    "from IPython.display import clear_output\n",
    "from time import sleep"
   ]
  },
  {
   "cell_type": "code",
   "execution_count": 0,
   "metadata": {
    "colab": {},
    "colab_type": "code",
    "id": "KBePtCoP3ELz"
   },
   "outputs": [],
   "source": [
    "env = gym.make(\"Taxi-v3\")\n",
    "action = env.reset()"
   ]
  },
  {
   "cell_type": "code",
   "execution_count": 3,
   "metadata": {
    "colab": {
     "base_uri": "https://localhost:8080/",
     "height": 55
    },
    "colab_type": "code",
    "executionInfo": {
     "elapsed": 626,
     "status": "ok",
     "timestamp": 1576837920677,
     "user": {
      "displayName": "SB K",
      "photoUrl": "",
      "userId": "07785642109713877288"
     },
     "user_tz": -540
    },
    "id": "WsQkeaE03EL8",
    "outputId": "e08a7ee6-1dcf-480c-df51-14e1208e3c48"
   },
   "outputs": [
    {
     "name": "stdout",
     "output_type": "stream",
     "text": [
      "6\n",
      "500\n"
     ]
    }
   ],
   "source": [
    "print(env.action_space.n)\n",
    "print(env.observation_space.n)"
   ]
  },
  {
   "cell_type": "code",
   "execution_count": 4,
   "metadata": {
    "colab": {
     "base_uri": "https://localhost:8080/",
     "height": 188
    },
    "colab_type": "code",
    "executionInfo": {
     "elapsed": 631,
     "status": "ok",
     "timestamp": 1576837925189,
     "user": {
      "displayName": "SB K",
      "photoUrl": "",
      "userId": "07785642109713877288"
     },
     "user_tz": -540
    },
    "id": "z8VCSSmy3EMG",
    "outputId": "2005e21b-3c8e-4d75-b76f-0cdbd47df150"
   },
   "outputs": [
    {
     "name": "stdout",
     "output_type": "stream",
     "text": [
      "+---------+\n",
      "|R: | : :G|\n",
      "| : | : : |\n",
      "| :\u001b[43m \u001b[0m: : : |\n",
      "| | : | : |\n",
      "|\u001b[35mY\u001b[0m| : |\u001b[34;1mB\u001b[0m: |\n",
      "+---------+\n",
      "\n",
      "-10\n"
     ]
    }
   ],
   "source": [
    "# 환경 동작 확인\n",
    "env.render()\n",
    "state_t, reward, done, e = env.step(env.action_space.sample())\n",
    "print(reward)\n",
    "if done:\n",
    "    env.reset()\n",
    "    print(reward)"
   ]
  },
  {
   "cell_type": "code",
   "execution_count": 5,
   "metadata": {
    "colab": {
     "base_uri": "https://localhost:8080/",
     "height": 150
    },
    "colab_type": "code",
    "executionInfo": {
     "elapsed": 639,
     "status": "ok",
     "timestamp": 1576837937373,
     "user": {
      "displayName": "SB K",
      "photoUrl": "",
      "userId": "07785642109713877288"
     },
     "user_tz": -540
    },
    "id": "dZq7eN3_3EMN",
    "outputId": "01ae2a4c-8e51-4548-ab8b-330b11729c44"
   },
   "outputs": [
    {
     "name": "stdout",
     "output_type": "stream",
     "text": [
      "[[0. 0. 0. 0. 0. 0.]\n",
      " [0. 0. 0. 0. 0. 0.]\n",
      " [0. 0. 0. 0. 0. 0.]\n",
      " ...\n",
      " [0. 0. 0. 0. 0. 0.]\n",
      " [0. 0. 0. 0. 0. 0.]\n",
      " [0. 0. 0. 0. 0. 0.]]\n"
     ]
    }
   ],
   "source": [
    "qtable = np.zeros((500, 6))\n",
    "print(qtable)"
   ]
  },
  {
   "cell_type": "code",
   "execution_count": 0,
   "metadata": {
    "colab": {},
    "colab_type": "code",
    "id": "xx9ZEhD03EMW"
   },
   "outputs": [],
   "source": [
    "# 파라메터 설정\n",
    "total_episodes = 100000 # 총 에피소드 수\n",
    "total_test_episodes = 100 # 총 테스트 에피소드\n",
    "max_steps = 100 # 하나의 에피소드에서 최대로 움직일 수 있는 수\n",
    "\n",
    "learning_rate = 0.3 # 학습률\n",
    "gamma = 0.8 # 미래 지향적일지 아닐지 선택, 크면 클수록 근시안적임\n",
    "\n",
    "#탐색 파라메터\n",
    "epsilon = 1.0 # 탐색률\n",
    "max_epsilon = 1.0 # 탐색 나갈 최대의 확률\n",
    "min_epsilon = 0.01 # 탐색 나갈 최소의 확률\n",
    "decay_rate = 0.0001 # 점점 탐색 확률을 줄여나갈 크기\n",
    "\n",
    "rewards = 0"
   ]
  },
  {
   "cell_type": "code",
   "execution_count": 0,
   "metadata": {
    "colab": {},
    "colab_type": "code",
    "id": "ovdHku1p3EMc",
    "scrolled": true
   },
   "outputs": [],
   "source": [
    "for episode in range(total_episodes):\n",
    "    # 환경을 초기화 한다\n",
    "    state = env.reset()\n",
    "    step = 0\n",
    "    done = False # 처음이니까 끝나는 것은 아님\n",
    "    total_rewards = 0\n",
    "    \n",
    "    # max_step까지 계속 반복\n",
    "    for step in range(max_steps):\n",
    "        \n",
    "        #행동을 선택한다.\n",
    "        # 랜덤으로 모험을 하기위한 확률을 설정\n",
    "        exploration_probability = random.uniform(0, 1)\n",
    "        \n",
    "        # 호기심 보단 지도를 보면서 다닌다.\n",
    "        if exploration_probability > epsilon:\n",
    "            # 행동 중 가장 가능성 있는 행동을 선택\n",
    "            action = np.argmax(qtable[state,:])\n",
    "        # 호기심을 억누르지 못하고 모험 시작\n",
    "        else:\n",
    "            # 아무데나 일단 가본다\n",
    "            action = env.action_space.sample()\n",
    "            \n",
    "        #행동을 하면 그에 따른 보상과 환경을 받는다.\n",
    "        new_state, reward, done, _ = env.step(action)\n",
    "\n",
    "        #지도를 업데이트 한다.\n",
    "        qtable[state, action] = qtable[state, action] + learning_rate * (reward + gamma * np.max(qtable[new_state, :]) - qtable[state, action])\n",
    "        \n",
    "        # 보상을 더한다\n",
    "        rewards += reward\n",
    "        \n",
    "        # 새로운 환경을 적용한다\n",
    "        state = new_state\n",
    "        \n",
    "        # 만약에 죽거나 끝났으면 다른 에피소드로\n",
    "        if done == True:\n",
    "            break;\n",
    "        \n",
    "    # 지도가 향상되므로 모험의 가능성을 줄인다.\n",
    "    # 결국 모험의 가능성의 역치는 0.01에 수렴한다.\n",
    "    epsilon = min_epsilon + (max_epsilon - min_epsilon) * np.exp(-decay_rate * episode)\n",
    "\n",
    "        "
   ]
  },
  {
   "cell_type": "code",
   "execution_count": 8,
   "metadata": {
    "colab": {
     "base_uri": "https://localhost:8080/",
     "height": 283
    },
    "colab_type": "code",
    "executionInfo": {
     "elapsed": 596,
     "status": "ok",
     "timestamp": 1576838028016,
     "user": {
      "displayName": "SB K",
      "photoUrl": "",
      "userId": "07785642109713877288"
     },
     "user_tz": -540
    },
    "id": "wcOiofgt3EMi",
    "outputId": "5725b200-8109-4535-ad0b-6c51ce3dd009",
    "scrolled": false
   },
   "outputs": [
    {
     "name": "stdout",
     "output_type": "stream",
     "text": [
      "[[  0.           0.           0.           0.           0.\n",
      "    0.        ]\n",
      " [ -2.85251635  -2.31564544  -2.85251635  -2.31564544  -1.6445568\n",
      "  -11.31564544]\n",
      " [  0.24288      1.5536       0.24288      1.5536       3.192\n",
      "   -7.4464    ]\n",
      " ...\n",
      " [  3.192        5.24         3.192        1.5536      -5.808\n",
      "   -5.808     ]\n",
      " [ -1.6445568   -0.805696    -1.6445568   -0.805696   -10.6445568\n",
      "  -10.6445568 ]\n",
      " [ 11.           7.8         11.          15.           2.\n",
      "    2.        ]]\n",
      "-912759\n"
     ]
    }
   ],
   "source": [
    "print(qtable)\n",
    "print(rewards)"
   ]
  },
  {
   "cell_type": "code",
   "execution_count": 9,
   "metadata": {
    "colab": {
     "base_uri": "https://localhost:8080/",
     "height": 405
    },
    "colab_type": "code",
    "executionInfo": {
     "elapsed": 290,
     "status": "error",
     "timestamp": 1576838055672,
     "user": {
      "displayName": "SB K",
      "photoUrl": "",
      "userId": "07785642109713877288"
     },
     "user_tz": -540
    },
    "id": "RipOcXcP3EMp",
    "outputId": "f308d655-728c-4546-b444-1033df20d554",
    "scrolled": true
   },
   "outputs": [
    {
     "name": "stdout",
     "output_type": "stream",
     "text": [
      "+---------+\n",
      "|\u001b[34;1m\u001b[43mR\u001b[0m\u001b[0m: | : :G|\n",
      "| : | : : |\n",
      "| : : : : |\n",
      "| | : | : |\n",
      "|Y| : |\u001b[35mB\u001b[0m: |\n",
      "+---------+\n",
      "  (North)\n"
     ]
    },
    {
     "ename": "KeyboardInterrupt",
     "evalue": "ignored",
     "output_type": "error",
     "traceback": [
      "\u001b[0;31m---------------------------------------------------------------------------\u001b[0m",
      "\u001b[0;31mKeyboardInterrupt\u001b[0m                         Traceback (most recent call last)",
      "\u001b[0;32m<ipython-input-9-97ce001fd343>\u001b[0m in \u001b[0;36m<module>\u001b[0;34m()\u001b[0m\n\u001b[1;32m      4\u001b[0m         \u001b[0mclear_output\u001b[0m\u001b[0;34m(\u001b[0m\u001b[0;34m)\u001b[0m\u001b[0;34m\u001b[0m\u001b[0;34m\u001b[0m\u001b[0m\n\u001b[1;32m      5\u001b[0m         \u001b[0menv\u001b[0m\u001b[0;34m.\u001b[0m\u001b[0mrender\u001b[0m\u001b[0;34m(\u001b[0m\u001b[0;34m)\u001b[0m\u001b[0;34m\u001b[0m\u001b[0;34m\u001b[0m\u001b[0m\n\u001b[0;32m----> 6\u001b[0;31m         \u001b[0msleep\u001b[0m\u001b[0;34m(\u001b[0m\u001b[0;36m0.5\u001b[0m\u001b[0;34m)\u001b[0m\u001b[0;34m\u001b[0m\u001b[0;34m\u001b[0m\u001b[0m\n\u001b[0m\u001b[1;32m      7\u001b[0m         \u001b[0maction\u001b[0m \u001b[0;34m=\u001b[0m \u001b[0mnp\u001b[0m\u001b[0;34m.\u001b[0m\u001b[0margmax\u001b[0m\u001b[0;34m(\u001b[0m\u001b[0mqtable\u001b[0m\u001b[0;34m[\u001b[0m\u001b[0mstate\u001b[0m\u001b[0;34m,\u001b[0m\u001b[0;34m:\u001b[0m\u001b[0;34m]\u001b[0m\u001b[0;34m)\u001b[0m\u001b[0;34m\u001b[0m\u001b[0;34m\u001b[0m\u001b[0m\n\u001b[1;32m      8\u001b[0m \u001b[0;34m\u001b[0m\u001b[0m\n",
      "\u001b[0;31mKeyboardInterrupt\u001b[0m: "
     ]
    }
   ],
   "source": [
    "for i in range(100):\n",
    "    state = env.reset()\n",
    "    for step in range(50):\n",
    "        clear_output()\n",
    "        env.render()\n",
    "        sleep(0.5)\n",
    "        action = np.argmax(qtable[state,:])\n",
    "        \n",
    "        new_state, reward, done, _ = env.step(action)\n",
    "        \n",
    "        state = new_state\n",
    "        \n",
    "        if done == True:\n",
    "            sleep(0.5)\n",
    "            clear_output()\n",
    "            env.render()\n",
    "            sleep(0.5)\n",
    "            break"
   ]
  },
  {
   "cell_type": "code",
   "execution_count": 0,
   "metadata": {
    "colab": {},
    "colab_type": "code",
    "id": "iR2ak_Ru3EMv"
   },
   "outputs": [],
   "source": [
    "print(rewards / total_episodes)"
   ]
  }
 ],
 "metadata": {
  "accelerator": "GPU",
  "colab": {
   "collapsed_sections": [],
   "name": "Q러닝.ipynb",
   "provenance": []
  },
  "kernelspec": {
   "display_name": "Python 3",
   "language": "python",
   "name": "python3"
  },
  "language_info": {
   "codemirror_mode": {
    "name": "ipython",
    "version": 3
   },
   "file_extension": ".py",
   "mimetype": "text/x-python",
   "name": "python",
   "nbconvert_exporter": "python",
   "pygments_lexer": "ipython3",
   "version": "3.7.5"
  }
 },
 "nbformat": 4,
 "nbformat_minor": 1
}
