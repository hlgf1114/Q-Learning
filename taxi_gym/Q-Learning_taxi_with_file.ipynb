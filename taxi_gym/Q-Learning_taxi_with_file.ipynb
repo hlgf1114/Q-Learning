{
 "cells": [
  {
   "cell_type": "code",
   "execution_count": null,
   "metadata": {
    "colab": {},
    "colab_type": "code",
    "id": "jjNaahYb3ELo"
   },
   "outputs": [],
   "source": [
    "import gym\n",
    "import numpy as np\n",
    "import random\n",
    "\n",
    "from IPython.display import clear_output\n",
    "from time import sleep"
   ]
  },
  {
   "cell_type": "code",
   "execution_count": null,
   "metadata": {
    "colab": {},
    "colab_type": "code",
    "id": "KBePtCoP3ELz"
   },
   "outputs": [],
   "source": [
    "env = gym.make(\"Taxi-v3\")\n",
    "action = env.reset()"
   ]
  },
  {
   "cell_type": "code",
   "execution_count": null,
   "metadata": {
    "colab": {
     "base_uri": "https://localhost:8080/",
     "height": 55
    },
    "colab_type": "code",
    "executionInfo": {
     "elapsed": 626,
     "status": "ok",
     "timestamp": 1576837920677,
     "user": {
      "displayName": "SB K",
      "photoUrl": "",
      "userId": "07785642109713877288"
     },
     "user_tz": -540
    },
    "id": "WsQkeaE03EL8",
    "outputId": "e08a7ee6-1dcf-480c-df51-14e1208e3c48"
   },
   "outputs": [],
   "source": [
    "print(env.action_space.n)\n",
    "print(env.observation_space.n)"
   ]
  },
  {
   "cell_type": "code",
   "execution_count": null,
   "metadata": {
    "colab": {
     "base_uri": "https://localhost:8080/",
     "height": 188
    },
    "colab_type": "code",
    "executionInfo": {
     "elapsed": 631,
     "status": "ok",
     "timestamp": 1576837925189,
     "user": {
      "displayName": "SB K",
      "photoUrl": "",
      "userId": "07785642109713877288"
     },
     "user_tz": -540
    },
    "id": "z8VCSSmy3EMG",
    "outputId": "2005e21b-3c8e-4d75-b76f-0cdbd47df150"
   },
   "outputs": [],
   "source": [
    "# 환경 동작 확인\n",
    "env.render()\n",
    "state_t, reward, done, e = env.step(env.action_space.sample())\n",
    "print(reward)\n",
    "if done:\n",
    "    env.reset()\n",
    "    print(reward)"
   ]
  },
  {
   "cell_type": "code",
   "execution_count": null,
   "metadata": {
    "colab": {
     "base_uri": "https://localhost:8080/",
     "height": 150
    },
    "colab_type": "code",
    "executionInfo": {
     "elapsed": 639,
     "status": "ok",
     "timestamp": 1576837937373,
     "user": {
      "displayName": "SB K",
      "photoUrl": "",
      "userId": "07785642109713877288"
     },
     "user_tz": -540
    },
    "id": "dZq7eN3_3EMN",
    "outputId": "01ae2a4c-8e51-4548-ab8b-330b11729c44"
   },
   "outputs": [],
   "source": [
    "qtable = np.zeros((500, 6))\n",
    "print(qtable)"
   ]
  },
  {
   "cell_type": "code",
   "execution_count": null,
   "metadata": {
    "colab": {},
    "colab_type": "code",
    "id": "xx9ZEhD03EMW"
   },
   "outputs": [],
   "source": [
    "# 파라메터 설정\n",
    "total_episodes = 100000 # 총 에피소드 수\n",
    "total_test_episodes = 100 # 총 테스트 에피소드\n",
    "max_steps = 100 # 하나의 에피소드에서 최대로 움직일 수 있는 수\n",
    "\n",
    "learning_rate = 0.3 # 학습률\n",
    "gamma = 0.8 # 미래 지향적일지 아닐지 선택, 크면 클수록 근시안적임\n",
    "\n",
    "#탐색 파라메터\n",
    "epsilon = 1.0 # 탐색률\n",
    "max_epsilon = 1.0 # 탐색 나갈 최대의 확률\n",
    "min_epsilon = 0.01 # 탐색 나갈 최소의 확률\n",
    "decay_rate = 0.0001 # 점점 탐색 확률을 줄여나갈 크기\n",
    "\n",
    "rewards = 0"
   ]
  },
  {
   "cell_type": "code",
   "execution_count": null,
   "metadata": {
    "colab": {},
    "colab_type": "code",
    "id": "ovdHku1p3EMc",
    "scrolled": true
   },
   "outputs": [],
   "source": [
    "#트레이닝 대신 학습 결과를 가져옴\n",
    "qtable = np.load(\"qtable_taxi.npy\")\n",
    "        "
   ]
  },
  {
   "cell_type": "code",
   "execution_count": null,
   "metadata": {
    "colab": {
     "base_uri": "https://localhost:8080/",
     "height": 283
    },
    "colab_type": "code",
    "executionInfo": {
     "elapsed": 596,
     "status": "ok",
     "timestamp": 1576838028016,
     "user": {
      "displayName": "SB K",
      "photoUrl": "",
      "userId": "07785642109713877288"
     },
     "user_tz": -540
    },
    "id": "wcOiofgt3EMi",
    "outputId": "5725b200-8109-4535-ad0b-6c51ce3dd009",
    "scrolled": false
   },
   "outputs": [],
   "source": [
    "print(qtable)"
   ]
  },
  {
   "cell_type": "code",
   "execution_count": null,
   "metadata": {
    "colab": {
     "base_uri": "https://localhost:8080/",
     "height": 405
    },
    "colab_type": "code",
    "executionInfo": {
     "elapsed": 290,
     "status": "error",
     "timestamp": 1576838055672,
     "user": {
      "displayName": "SB K",
      "photoUrl": "",
      "userId": "07785642109713877288"
     },
     "user_tz": -540
    },
    "id": "RipOcXcP3EMp",
    "outputId": "f308d655-728c-4546-b444-1033df20d554",
    "scrolled": true
   },
   "outputs": [],
   "source": [
    "for i in range(100):\n",
    "    state = env.reset()\n",
    "    for step in range(50):\n",
    "        clear_output()\n",
    "        env.render()\n",
    "        sleep(0.5)\n",
    "        action = np.argmax(qtable[state,:])\n",
    "        \n",
    "        new_state, reward, done, _ = env.step(action)\n",
    "        \n",
    "        state = new_state\n",
    "        \n",
    "        if done == True:\n",
    "            sleep(0.5)\n",
    "            clear_output()\n",
    "            env.render()\n",
    "            sleep(0.5)\n",
    "            break"
   ]
  },
  {
   "cell_type": "code",
   "execution_count": null,
   "metadata": {
    "colab": {},
    "colab_type": "code",
    "id": "iR2ak_Ru3EMv"
   },
   "outputs": [],
   "source": [
    "print(rewards / total_episodes)"
   ]
  }
 ],
 "metadata": {
  "accelerator": "GPU",
  "colab": {
   "collapsed_sections": [],
   "name": "Q러닝.ipynb",
   "provenance": []
  },
  "kernelspec": {
   "display_name": "Python 3",
   "language": "python",
   "name": "python3"
  },
  "language_info": {
   "codemirror_mode": {
    "name": "ipython",
    "version": 3
   },
   "file_extension": ".py",
   "mimetype": "text/x-python",
   "name": "python",
   "nbconvert_exporter": "python",
   "pygments_lexer": "ipython3",
   "version": "3.5.6"
  }
 },
 "nbformat": 4,
 "nbformat_minor": 1
}
